{
 "cells": [
  {
   "cell_type": "code",
   "execution_count": null,
   "metadata": {},
   "outputs": [],
   "source": [
    "from PIL.Image import Image\n",
    "import cv2, os\n",
    "import numpy as np\n",
    "from glob import glob\n",
    "from PIL import Image\n"
   ]
  },
  {
   "cell_type": "code",
   "execution_count": null,
   "metadata": {},
   "outputs": [],
   "source": [
    "## TRAIN, VALIDATION SAVE\n",
    "img_path = 'dataset/train/'\n",
    "images = [y for x in os.walk(img_path) for y in glob(os.path.join(x[0], '*.jpg'))]\n",
    "normal, ac, mild, moderate, severe = 1, 1, 1, 1, 1;\n",
    "\n",
    "for each_image in images:\n",
    "    \n",
    "    img_name = each_image.split('/')[-1][:-4].split('\\\\')[-1]\n",
    "    json_full_path = os.path.join(os.path.join(img_path,img_name, 'metadata'), img_name + '.json')\n",
    "    data = json.load(open(json_full_path))\n",
    "    \n",
    "    if 'iga_grade' in data['annotations'][0]['clinical_info']:\n",
    "        if data['annotations'][0]['clinical_info']['iga_grade'] == 'Almost Clear':\n",
    "            save_path = 'DATA_IMAGE_2/trains/Almost Clear'\n",
    "            img = Image.open(each_image)\n",
    "            img = img.resize(size = (256,256))\n",
    "            img = np.uint8(np.array(img))\n",
    "            Image.fromarray(img).save(f'{save_path}/{img_name}.png')\n",
    "            print(ac,'/ 60     ', data['annotations'][0]['clinical_info']['iga_grade'], img_name, '.png saved')\n",
    "            ac = ac + 1\n",
    "            \n",
    "        if data['annotations'][0]['clinical_info']['iga_grade'] == 'Mild':\n",
    "            save_path = 'DATA_IMAGE_2/trains/Mild'\n",
    "            img = Image.open(each_image)\n",
    "            img = img.resize(size = (256,256))\n",
    "            img = np.uint8(np.array(img))\n",
    "            Image.fromarray(img).save(f'{save_path}/{img_name}.png')\n",
    "            print(mild,'/ 60     ', data['annotations'][0]['clinical_info']['iga_grade'], img_name, '.png saved')\n",
    "            mild = mild + 1\n",
    "            \n",
    "        if data['annotations'][0]['clinical_info']['iga_grade'] == 'Moderate':\n",
    "            save_path = 'DATA_IMAGE_2/trains/Moderate'\n",
    "            img = Image.open(each_image)\n",
    "            img = img.resize(size = (256,256))\n",
    "            img = np.uint8(np.array(img))\n",
    "            Image.fromarray(img).save(f'{save_path}/{img_name}.png')\n",
    "            print(moderate,'/ 60     ', data['annotations'][0]['clinical_info']['iga_grade'], img_name, '.png saved')\n",
    "            moderate = moderate + 1\n",
    "            \n",
    "        if data['annotations'][0]['clinical_info']['iga_grade'] == 'Severe':\n",
    "            save_path = 'DATA_IMAGE_2/trains/Severe'\n",
    "            img = Image.open(each_image)\n",
    "            img = img.resize(size = (256,256))\n",
    "            img = np.uint8(np.array(img))\n",
    "            Image.fromarray(img).save(f'{save_path}/{img_name}.png')\n",
    "            print(severe,'/ 60     ', data['annotations'][0]['clinical_info']['iga_grade'], img_name, '.png saved')\n",
    "            severe = severe + 1\n",
    "    else:\n",
    "        save_path = 'DATA_IMAGE_2/trains/Normal'\n",
    "        img = Image.open(each_image)\n",
    "        img = img.resize(size = (256,256))\n",
    "        img = np.uint8(np.array(img))\n",
    "        Image.fromarray(img).save(f'{save_path}/{img_name}.png')\n",
    "        print(normal,'/ 60     Normal ',img_name, '.png saved')\n",
    "        normal = normal + 1\n",
    "\n",
    "print(\"DONE\")"
   ]
  },
  {
   "cell_type": "code",
   "execution_count": null,
   "metadata": {},
   "outputs": [],
   "source": [
    "img_path = 'dataset/test/'\n",
    "images = [y for x in os.walk(img_path) for y in glob(os.path.join(x[0], '*.jpg'))]\n",
    "i = 1;\n",
    "\n",
    "for each_image in images:\n",
    "    img_name = each_image.split('/')[-1][:-4].split('\\\\')[-1]    \n",
    "    save_path = 'DATA_IMAGE_2_resize/test/'\n",
    "    img = Image.open(each_image)\n",
    "    img = img.resize(size = (256,256))\n",
    "    img = np.uint8(np.array(img))\n",
    "    Image.fromarray(img).save(f'{save_path}/{img_name}.png')\n",
    "    print(i, '/ 300      test',img_name, '.png saved')\n",
    "    i = i + 1\n"
   ]
  },
  {
   "cell_type": "code",
   "execution_count": null,
   "metadata": {},
   "outputs": [],
   "source": [
    "from PIL import Image\n",
    "import numpy as np\n",
    "\n",
    "img = Image.open('DATA_CROPPED/train/Normal/H0_115561_P4_L2.png')\n",
    "img = np.uint8(np.array(img))\n",
    "print(img.shape)"
   ]
  }
 ],
 "metadata": {
  "kernelspec": {
   "display_name": "pytorch",
   "language": "python",
   "name": "pytorch"
  },
  "language_info": {
   "codemirror_mode": {
    "name": "ipython",
    "version": 3
   },
   "file_extension": ".py",
   "mimetype": "text/x-python",
   "name": "python",
   "nbconvert_exporter": "python",
   "pygments_lexer": "ipython3",
   "version": "3.8.5"
  }
 },
 "nbformat": 4,
 "nbformat_minor": 4
}
