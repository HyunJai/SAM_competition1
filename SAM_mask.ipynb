{
 "cells": [
  {
   "cell_type": "code",
   "execution_count": null,
   "metadata": {},
   "outputs": [],
   "source": [
    "from PIL.Image import Image\n",
    "import cv2, os\n",
    "import numpy as np\n",
    "from glob import glob\n",
    "from PIL import Image"
   ]
  },
  {
   "cell_type": "code",
   "execution_count": null,
   "metadata": {},
   "outputs": [],
   "source": [
    "img_path = 'dataset/train/'\n",
    "images = [y for x in os.walk(img_path) for y in glob(os.path.join(x[0], 'crop/skin_area/*.png'))]\n",
    "normal, ac, mild, moderate, severe = 1, 1, 1, 1, 1;\n",
    "\n",
    "for each_image in images:\n",
    "    \n",
    "    img_name = each_image.split('/')[-1][:-4].split('\\\\')[-1]\n",
    "    json_full_path = os.path.join(os.path.join(img_path,img_name, 'metadata'), img_name + '.json')\n",
    "    data = json.load(open(json_full_path))\n",
    "    \n",
    "    if 'iga_grade' in data['annotations'][0]['clinical_info']:\n",
    "        if data['annotations'][0]['clinical_info']['iga_grade'] == 'Almost Clear':\n",
    "            save_path = 'DATA_SKIN_AREA/train/Almost Clear'\n",
    "            img = Image.open(each_image)\n",
    "            img = np.uint8(np.array(img))\n",
    "            Image.fromarray(img).save(f'{save_path}/{img_name}.png')\n",
    "            print(ac,'/ 480     ', data['annotations'][0]['clinical_info']['iga_grade'], img_name, '.png saved')\n",
    "            ac = ac + 1\n",
    "            \n",
    "        if data['annotations'][0]['clinical_info']['iga_grade'] == 'Mild':\n",
    "            save_path = 'DATA_SKIN_AREA/train/Mild'\n",
    "            img = Image.open(each_image)\n",
    "            img = np.uint8(np.array(img))\n",
    "            Image.fromarray(img).save(f'{save_path}/{img_name}.png')\n",
    "            print(mild,'/ 480     ', data['annotations'][0]['clinical_info']['iga_grade'], img_name, '.png saved')\n",
    "            mild = mild + 1\n",
    "            \n",
    "        if data['annotations'][0]['clinical_info']['iga_grade'] == 'Moderate':\n",
    "            save_path = 'DATA_SKIN_AREA/train/Moderate'\n",
    "            img = Image.open(each_image)\n",
    "            img = np.uint8(np.array(img))\n",
    "            Image.fromarray(img).save(f'{save_path}/{img_name}.png')\n",
    "            print(moderate,'/ 480     ', data['annotations'][0]['clinical_info']['iga_grade'], img_name, '.png saved')\n",
    "            moderate = moderate + 1\n",
    "            \n",
    "        if data['annotations'][0]['clinical_info']['iga_grade'] == 'Severe':\n",
    "            save_path = 'DATA_SKIN_AREA/train/Severe'\n",
    "            img = Image.open(each_image)\n",
    "            img = np.uint8(np.array(img))\n",
    "            Image.fromarray(img).save(f'{save_path}/{img_name}.png')\n",
    "            print(severe,'/ 480     ', data['annotations'][0]['clinical_info']['iga_grade'], img_name, '.png saved')\n",
    "            severe = severe + 1\n",
    "    else:\n",
    "        save_path = 'DATA_SKIN_AREA/train/Normal'\n",
    "        img = Image.open(each_image)\n",
    "        img = np.uint8(np.array(img))\n",
    "        Image.fromarray(img).save(f'{save_path}/{img_name}.png')\n",
    "        print(normal,'/ 480      Normal',img_name, '.png saved')\n",
    "        normal = normal + 1"
   ]
  },
  {
   "cell_type": "code",
   "execution_count": null,
   "metadata": {},
   "outputs": [],
   "source": [
    "img_path = 'dataset/test/'\n",
    "images = [y for x in os.walk(img_path) for y in glob(os.path.join(x[0], 'crop/skin_area/*.png'))]\n",
    "i = 1;\n",
    "\n",
    "for each_image in images:\n",
    "    img_name = each_image.split('/')[-1][:-4].split('\\\\')[-1]    \n",
    "    save_path = 'DATA_SKIN_AREA/test/'\n",
    "    img = Image.open(each_image)\n",
    "    img = np.uint8(np.array(img))\n",
    "    Image.fromarray(img).save(f'{save_path}/{img_name}.png')\n",
    "    print(i, '/ 300      ',img_name, '.png saved')\n",
    "    i = i + 1\n"
   ]
  }
 ],
 "metadata": {
  "kernelspec": {
   "display_name": "pytorch",
   "language": "python",
   "name": "pytorch"
  },
  "language_info": {
   "codemirror_mode": {
    "name": "ipython",
    "version": 3
   },
   "file_extension": ".py",
   "mimetype": "text/x-python",
   "name": "python",
   "nbconvert_exporter": "python",
   "pygments_lexer": "ipython3",
   "version": "3.8.5"
  }
 },
 "nbformat": 4,
 "nbformat_minor": 4
}
