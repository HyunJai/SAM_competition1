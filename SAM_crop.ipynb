{
 "cells": [
  {
   "cell_type": "code",
   "execution_count": null,
   "metadata": {},
   "outputs": [],
   "source": [
    "from PIL.Image import Image\n",
    "import cv2, os\n",
    "import numpy as np\n",
    "from glob import glob\n",
    "from PIL import Image\n",
    "\n",
    "### ============ CHECK ============ ###\n",
    "# w, h = 320, 480\n",
    "base_path  = 'train/Normal'\n",
    "\n",
    "image_path = './DATA_IMAGE/'     +  base_path\n",
    "mask_path  = './DATA_SKIN_AREA/' +  base_path\n",
    "save_path  = './DATA_CROPPED/'   +  base_path\n",
    "### ================================ ###\n",
    "\n",
    "images  = [y for x in os.walk(image_path) for y in glob(os.path.join(x[0], '*.png'))]\n",
    "masks   = [y for x in os.walk(mask_path) for y in glob(os.path.join(x[0], '*.png'))]"
   ]
  },
  {
   "cell_type": "code",
   "execution_count": null,
   "metadata": {},
   "outputs": [],
   "source": [
    "# Image Load\n",
    "\n",
    "i = 1\n",
    "\n",
    "for each_image in images:\n",
    "    img_name = each_image.split('/')[-1][:-4].split('\\\\')[-1]\n",
    "    img = Image.open(each_image)\n",
    "    img = np.uint8(np.array(img))\n",
    "    img = img[:, :, :-1]\n",
    "    \n",
    "    # Mask Load\n",
    "    for each_masks in masks:\n",
    "        mask_name = each_masks.split('/')[-1][:-4].split('\\\\')[-1]\n",
    "        mask = Image.open(each_masks)  \n",
    "\n",
    "        # check the name of img and mask file\n",
    "        if img_name == mask_name:\n",
    "            mask = np.array(mask)\n",
    "            mask = cv2.cvtColor(mask, cv2.COLOR_GRAY2RGB)\n",
    "            mask = np.uint8(np.where(mask > 0, 255, 0))\n",
    "            \n",
    "            # image cropping\n",
    "            result_img = cv2.bitwise_and(img, mask)\n",
    "            \n",
    "            # save the result\n",
    "            Image.fromarray(result_img).save(f'{save_path}/{img_name}.png')\n",
    "            print(i, '/ 480', img_name,\"saved\")\n",
    "            i = i + 1"
   ]
  },
  {
   "cell_type": "code",
   "execution_count": null,
   "metadata": {},
   "outputs": [],
   "source": [
    "from PIL.Image import Image\n",
    "import cv2, os\n",
    "import numpy as np\n",
    "from glob import glob\n",
    "from PIL import Image\n",
    "\n",
    "### ============ CHECK ============ ###\n",
    "# w, h = 320, 480\n",
    "base_path  = 'test/'\n",
    "\n",
    "image_path = './DATA_IMAGE/'     +  base_path\n",
    "mask_path  = './DATA_SKIN_AREA/' +  base_path\n",
    "save_path  = './DATA_CROPPED/'   +  base_path\n",
    "### ================================ ###\n",
    "\n",
    "images  = [y for x in os.walk(image_path) for y in glob(os.path.join(x[0], '*.png'))]\n",
    "masks   = [y for x in os.walk(mask_path) for y in glob(os.path.join(x[0], '*.png'))]"
   ]
  },
  {
   "cell_type": "code",
   "execution_count": null,
   "metadata": {},
   "outputs": [],
   "source": [
    "# Image Load\n",
    "\n",
    "i = 1\n",
    "\n",
    "for each_image in images:\n",
    "    img_name = each_image.split('/')[-1][:-4].split('\\\\')[-1]\n",
    "    img = Image.open(each_image)\n",
    "    img = np.uint8(np.array(img))\n",
    "    img = img[:, :, :-1]\n",
    "    \n",
    "    # Mask Load\n",
    "    for each_masks in masks:\n",
    "        mask_name = each_masks.split('/')[-1][:-4].split('\\\\')[-1]\n",
    "        mask = Image.open(each_masks)  \n",
    "\n",
    "        # check the name of img and mask file\n",
    "        if img_name == mask_name:\n",
    "            mask = np.array(mask)\n",
    "            mask = cv2.cvtColor(mask, cv2.COLOR_GRAY2RGB)\n",
    "            mask = np.uint8(np.where(mask > 0, 255, 0))\n",
    "            \n",
    "            # image cropping\n",
    "            result_img = cv2.bitwise_and(img, mask)\n",
    "            \n",
    "            # save the result\n",
    "            Image.fromarray(result_img).save(f'{save_path}/{img_name}.png')\n",
    "            print(i, '/ 300', img_name,\"saved\")\n",
    "            i = i + 1"
   ]
  }
 ],
 "metadata": {
  "kernelspec": {
   "display_name": "pytorch",
   "language": "python",
   "name": "pytorch"
  },
  "language_info": {
   "codemirror_mode": {
    "name": "ipython",
    "version": 3
   },
   "file_extension": ".py",
   "mimetype": "text/x-python",
   "name": "python",
   "nbconvert_exporter": "python",
   "pygments_lexer": "ipython3",
   "version": "3.8.5"
  }
 },
 "nbformat": 4,
 "nbformat_minor": 4
}
